{
 "cells": [
  {
   "cell_type": "code",
   "execution_count": 1,
   "metadata": {},
   "outputs": [],
   "source": [
    "import numpy as np\n",
    "import pandas as pd\n",
    "from scipy.sparse import coo_matrix,diags\n",
    "\n",
    "counts = pd.read_csv('./count_file.tsv.gz',sep='\\t',header=None)\n",
    "counts[0] = counts[0] - 1\n",
    "counts[1] = counts[1] -1 \n",
    "\n",
    "samples = pd.read_csv('./sample_file.tsv.gz',sep='\\t',header=None)\n",
    "regions = pd.read_csv('./region_file.bed.gz',sep='\\t',header=None)\n",
    "\n",
    "mat = coo_matrix((counts[2].values, (counts[0].values,counts[1].values)))\n",
    "df = pd.DataFrame(data = mat.toarray(),\n",
    "                  index = regions.apply(lambda row: '_'.join(row.values.astype(str)), axis=1),\n",
    "                  columns = samples[0])\n",
    "df.to_csv('mat.tsv',sep='\\t')"
   ]
  },
  {
   "cell_type": "code",
   "execution_count": null,
   "metadata": {},
   "outputs": [],
   "source": []
  }
 ],
 "metadata": {
  "kernelspec": {
   "display_name": "Python [conda env:test_steam]",
   "language": "python",
   "name": "conda-env-test_steam-py"
  },
  "language_info": {
   "codemirror_mode": {
    "name": "ipython",
    "version": 3
   },
   "file_extension": ".py",
   "mimetype": "text/x-python",
   "name": "python",
   "nbconvert_exporter": "python",
   "pygments_lexer": "ipython3",
   "version": "3.7.6"
  }
 },
 "nbformat": 4,
 "nbformat_minor": 2
}
